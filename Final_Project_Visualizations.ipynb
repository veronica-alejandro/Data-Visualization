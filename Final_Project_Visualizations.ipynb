{
  "nbformat": 4,
  "nbformat_minor": 0,
  "metadata": {
    "colab": {
      "provenance": []
    },
    "kernelspec": {
      "name": "python3",
      "display_name": "Python 3"
    },
    "language_info": {
      "name": "python"
    }
  },
  "cells": [
    {
      "cell_type": "markdown",
      "source": [
        "## Team Name: <3\n",
        "## Veronica Alejandro\n",
        "## Lily Hoefner\n",
        "## Title: 2017 Mini-Challenge 1"
      ],
      "metadata": {
        "id": "rf39M2tje8gI"
      }
    },
    {
      "cell_type": "markdown",
      "source": [
        "A nature preserve used by local residents and tourists for day-trips, overnight camping or just passing through, is seeing a decrease in nesting pairs of a popular bird. Since the park collects data on vehicles, we were tasked with analyzing patterns and perhaps finding any unusal behaviors that may require further investigation and find out why the nesting pairs are decreasing."
      ],
      "metadata": {
        "id": "uu5lUNp5b6La"
      }
    },
    {
      "cell_type": "code",
      "execution_count": 2,
      "metadata": {
        "id": "FXt34dvPurDa",
        "outputId": "83fef3cd-b5ec-4b83-f66b-282a59290924",
        "colab": {
          "base_uri": "https://localhost:8080/"
        }
      },
      "outputs": [
        {
          "output_type": "execute_result",
          "data": {
            "text/plain": [
              "DataTransformerRegistry.enable('default')"
            ]
          },
          "metadata": {},
          "execution_count": 2
        }
      ],
      "source": [
        "# Import the necessary libraries and data\n",
        "import altair as alt\n",
        "import pandas as pd\n",
        "import numpy as np\n",
        "from datetime import datetime as dt\n",
        "from dateutil.parser import parse\n",
        "\n",
        "df = pd.read_csv('Lekagul Sensor Data.csv', parse_dates = ['Timestamp'])\n",
        "alt.data_transformers.disable_max_rows()"
      ]
    },
    {
      "cell_type": "markdown",
      "source": [
        "### Car types\n",
        "1 - 2 axle car/motorcycle\n",
        "\n",
        "2 - 2 axle truck\n",
        "\n",
        "3 - 3 axle truck\n",
        "\n",
        "4 - 4 axle+ truck\n",
        "\n",
        "5 - 2 axle bus\n",
        "\n",
        "6 - 3 axle bus\n",
        "\n",
        "2P - Park service vehicles\n",
        "\n",
        "### Sensor types\n",
        "- Entrances: all vehicles may pass\n",
        "- General gates: all vehicles may pass\n",
        "- Gates: only park service vehicles may pass\n",
        "- Ranger stops: record all traffic (so any vehicle) passing by, but are used by the park service workesr\n",
        "- Camping: all vehicles passing by \n",
        " \n"
      ],
      "metadata": {
        "id": "BYJjsgbohOgI"
      }
    },
    {
      "cell_type": "markdown",
      "source": [
        "## Visualization 1\n",
        "\n",
        "How does vehicular traffic change throughout the day for each day of the week?"
      ],
      "metadata": {
        "id": "jTQWccHX1IhI"
      }
    },
    {
      "cell_type": "code",
      "source": [
        "# create a column for day of the month\n",
        "df['day'] = df['Timestamp'].dt.day\n",
        "\n",
        "# create a column for the month number\n",
        "df['month'] = df['Timestamp'].dt.month\n",
        "\n",
        "# create a column for week of the year\n",
        "df['week'] = df['Timestamp'].dt.week\n",
        "\n",
        "# create a column for day_name\n",
        "df['day_name'] = df['Timestamp'].dt.day_name()\n",
        "\n",
        "# create a column for hour of the day\n",
        "df['hour'] = df['Timestamp'].dt.hour\n",
        "\n",
        "# create a column for hour of the day\n",
        "df['year'] = df['Timestamp'].dt.year\n",
        "\n",
        "df.dtypes\n"
      ],
      "metadata": {
        "id": "R4b_Yk6AxDOy"
      },
      "execution_count": null,
      "outputs": []
    },
    {
      "cell_type": "code",
      "source": [
        "# Visualization 1\n",
        "\n",
        "df2 = df.groupby(['hour','day_name', 'car-type']).size().reset_index(name='counts')\n",
        "\n",
        "options = list(df2['car-type'].unique())\n",
        "labels = [option + '' for option in options]\n",
        "\n",
        "dropdown_category = alt.binding_select(options=options + [None], name='Select Vehicle Type', labels = labels + ['All'])\n",
        "selection_category = alt.selection_single(fields=['car-type'], bind=dropdown_category)\n",
        "\n",
        "base = alt.Chart(df2).mark_line(strokeWidth=2).encode(\n",
        "    x = alt.X('hour'), \n",
        "    y = alt.Y('counts', axis = alt.Axis(title = 'Counts')),\n",
        "    facet = alt.Facet('day_name:N', columns = 1, align = 'each',\n",
        "                      title = 'Total Vehicle Activity per Hour',\n",
        "                      sort = ['Monday', 'Tuesday', 'Wednesday', 'Thursday', 'Friday', 'Saturday', 'Sunday']),\n",
        "    tooltip = 'counts',\n",
        "    color = alt.Color(\n",
        "        'car-type:N',\n",
        "        scale=alt.Scale(domain=('1', '2', '3', '4', '5', '6', '2P'), \n",
        "                        range=['#ea5545', '#ef9b20', '#ede15b', '#bdcf32', \n",
        "                               '#87bc45', \"#27aeef\", \"#b33dc6\"]),\n",
        "        title = 'Vehicle Type')\n",
        "    ).properties(width=400, height=60)\n",
        "  \n",
        "filter_vehicle = base.add_selection(\n",
        "    selection_category\n",
        ").transform_filter(\n",
        "    selection_category\n",
        ")\n",
        "\n",
        "filter_vehicle"
      ],
      "metadata": {
        "id": "pSsd37MJe2x6"
      },
      "execution_count": null,
      "outputs": []
    },
    {
      "cell_type": "markdown",
      "source": [
        "## Visualization 2\n",
        "\n",
        "What is the time each vehicle spent in the nature preserve? What is the distribution of car type for the days spent?"
      ],
      "metadata": {
        "id": "3g7YbjPHw3TX"
      }
    },
    {
      "cell_type": "code",
      "source": [
        "# Time each vehicle spent in nature preserve \n",
        "\n",
        "df1 = df.drop_duplicates(subset='car-id', keep=\"first\")\n",
        "df2 = df.drop_duplicates(subset='car-id', keep=\"last\")\n",
        "\n",
        "merged = pd.merge(df1, df2, on='car-id')\n",
        "\n",
        "merged['days'] = merged['Timestamp_y'] - merged['Timestamp_x']\n",
        "merged = merged.sort_values('days')\n",
        "merged = merged.astype({'days': 'timedelta64[D]'})\n",
        "merged = merged[merged['days'] >= 1]\n",
        "\n",
        "merged.head()"
      ],
      "metadata": {
        "id": "3Fy-l-ut8U3n"
      },
      "execution_count": null,
      "outputs": []
    },
    {
      "cell_type": "code",
      "source": [
        "# Visualization 2\n",
        "\n",
        "interval = alt.selection_interval()\n",
        "\n",
        "base = alt.Chart(merged).mark_point().encode(\n",
        "    x = 'days', \n",
        "    color = alt.Color(\n",
        "        'car-type_x:N',\n",
        "        scale = alt.Scale(domain=('1', '2', '3', '4', '5', '6', '2P'), \n",
        "                        range=['#ea5545', '#ef9b20', '#ede15b', '#bdcf32', \n",
        "                               '#87bc45', \"#27aeef\", \"#b33dc6\"]),\n",
        "        title = 'Vehicle Type'),\n",
        "    tooltip = ['car-id', 'days', 'car-type_x']\n",
        ").properties(\n",
        "    width = 800,\n",
        "    title = 'Days Spent in the Park by Vehicle Type'\n",
        ").add_selection(\n",
        "    interval\n",
        ")\n",
        "\n",
        "hist = alt.Chart(merged).mark_bar().encode (\n",
        "x = 'count()',\n",
        "y = alt.Y('car-type_x', title = 'Vehicle Type'),\n",
        "color = alt.Color(\n",
        "        'car-type_x:N',\n",
        "        scale = alt.Scale(domain=('1', '2', '3', '4', '5', '6', '2P'), \n",
        "                        range=['#ea5545', '#ef9b20', '#ede15b', '#bdcf32', \n",
        "                               '#87bc45', \"#27aeef\", \"#b33dc6\"]),\n",
        "        title = 'Vehicle Type')\n",
        ").properties (\n",
        "width = 800,\n",
        "height = 80\n",
        ").transform_filter (\n",
        "interval)\n",
        "\n",
        "base & hist"
      ],
      "metadata": {
        "id": "Bnxd155EF4Bc"
      },
      "execution_count": null,
      "outputs": []
    },
    {
      "cell_type": "markdown",
      "source": [
        "## Visualization 3\n",
        "\n",
        "Is there a particular time of year that people prefer to camp? Which types of vehicles visit the campsites most often? \n"
      ],
      "metadata": {
        "id": "TZiuso6q0_U_"
      }
    },
    {
      "cell_type": "code",
      "source": [
        "# Visualization 3\n",
        "interval = alt.selection_interval(encodings=['x'])\n",
        "camping = df[(df['gate-name'] == 'camping0') | \n",
        "             (df['gate-name'] == 'camping1') |\n",
        "             (df['gate-name'] == 'camping2') |\n",
        "             (df['gate-name'] == 'camping3') |\n",
        "             (df['gate-name'] == 'camping4') |\n",
        "             (df['gate-name'] == 'camping5') |\n",
        "             (df['gate-name'] == 'camping6') |\n",
        "             (df['gate-name'] == 'camping7') |\n",
        "             (df['gate-name'] == 'camping8') ]\n",
        "             \n",
        "df['Date'] = df['Timestamp'].dt.strftime('%Y-%m-%d')\n",
        "\n",
        "base = alt.Chart(camping).mark_line(size=2).encode(\n",
        "    x = alt.X('Date:T', axis=alt.Axis(tickSize=0)), \n",
        "    y = alt.Y('count()', axis=alt.Axis(title='Counts')),\n",
        "    color=alt.Color(\n",
        "        'car-type:N',\n",
        "        scale=alt.Scale(domain=('1', '2', '3', '4', '5', '6', '2P'), \n",
        "                        range=['#ea5545', '#ef9b20', '#ede15b', \n",
        "                               '#bdcf32', '#87bc45', \"#27aeef\", \"#b33dc6\"]),\n",
        "        title='Vehicle Type')\n",
        "    )\n",
        "\n",
        "chart = base.encode(\n",
        "    x = alt.X('Date:T', scale=alt.Scale(domain=interval.ref()))\n",
        ").properties(\n",
        "    width=750,\n",
        "    height=300,\n",
        "    title='Camping Gate Activity Over Time'\n",
        ")\n",
        "\n",
        "view = base.add_selection(\n",
        "    interval\n",
        ").properties(\n",
        "    width=750,\n",
        "    height=50,\n",
        ")\n",
        "\n",
        "chart & view"
      ],
      "metadata": {
        "id": "8csVU0X5ittF"
      },
      "execution_count": null,
      "outputs": []
    },
    {
      "cell_type": "markdown",
      "source": [
        "## Visualization 4\n",
        "\n",
        "What is the distribution of stays in campgrounds? What is the most popular campground?"
      ],
      "metadata": {
        "id": "OO5iBQUKwvk2"
      }
    },
    {
      "cell_type": "code",
      "source": [
        "import plotly.graph_objects as go \n",
        "import plotly.express as px"
      ],
      "metadata": {
        "id": "IZlRW_t8vd9R"
      },
      "execution_count": null,
      "outputs": []
    },
    {
      "cell_type": "code",
      "source": [
        "campings = ['camping0', 'camping1', 'camping2', 'camping3', 'camping4', 'camping5', 'camping6', 'camping7', 'camping8']\n",
        "df_camp = df[df['gate-name'].isin(campings)]['gate-name'].value_counts().rename_axis('campground').reset_index(name = 'counts')\n",
        "df_camp"
      ],
      "metadata": {
        "id": "r3RxppcLtFVe"
      },
      "execution_count": null,
      "outputs": []
    },
    {
      "cell_type": "code",
      "source": [
        "# Visualization 4\n",
        "colormap = {'camping0': '#797D62', 'camping1': '#9B9B7A',\n",
        "            'camping2': '#D9AE94', 'camping3': '#E5C59E',\n",
        "            'camping4': '#F1DCA7', 'camping5': '#F8D488',\n",
        "            'camping6': '#E4B074', 'camping7': '#D08C60',\n",
        "            'camping8': '#997B66'}\n",
        "fig = px.bar(df_camp, x = 'campground', y = 'counts', title = 'Distribution of Campground Stays', hover_name = 'counts',\n",
        "             color = 'campground', color_discrete_map = colormap)\n",
        "fig.show()"
      ],
      "metadata": {
        "id": "kSG4QGaMrrf2"
      },
      "execution_count": null,
      "outputs": []
    },
    {
      "cell_type": "markdown",
      "source": [
        "## Visualization 5\n",
        "\n",
        "What entrance is most utilized? What entrance does each type of vehicle utilize the most?"
      ],
      "metadata": {
        "id": "8okoewHR07B4"
      }
    },
    {
      "cell_type": "code",
      "source": [
        "# Visualization 5\n",
        "entrances = df[(df['gate-name'] == 'entrance0') | \n",
        "             (df['gate-name'] == 'entrance1') |\n",
        "             (df['gate-name'] == 'entrance2') |\n",
        "             (df['gate-name'] == 'entrance3') |\n",
        "             (df['gate-name'] == 'entrance4')]\n",
        "\n",
        "options = list(df2['car-type'].unique())\n",
        "labels = [option + '' for option in options]\n",
        "\n",
        "dropdown_category = alt.binding_select(options=options + [None], name='Select Vehicle Type', labels = labels + ['All'])\n",
        "selection_category = alt.selection_single(fields=['car-type'], bind=dropdown_category)\n",
        "\n",
        "base = alt.Chart(entrances).mark_bar().encode(\n",
        "    x = alt.X('gate-name', axis=alt.Axis(title='Entrance'),  \n",
        "          scale = alt.Scale(domain = ['entrance0', 'entrance1', 'entrance2', 'entrance3', 'entrance4']), stack = 'zero'),\n",
        "    y = alt.Y('count()', axis=alt.Axis(title='Visits'), title = 'Visits', scale=alt.Scale(domain=[0, 9000])),\n",
        "    color = alt.Color(\n",
        "        'car-type:N',\n",
        "        scale = alt.Scale(domain=('1', '2', '3', '4', '5', '6', '2P'), \n",
        "                        range=['#ea5545', '#ef9b20', '#ede15b', '#bdcf32', \n",
        "                               '#87bc45', \"#27aeef\", \"#b33dc6\"]),\n",
        "        title = 'Vehicle Type'),\n",
        "    tooltip = 'count()'\n",
        ").properties(\n",
        "    width=500,\n",
        "    title=\"Utilization of Each Entrance by Vehicle Type\"\n",
        ").configure_facet(\n",
        "    spacing=8\n",
        ").add_selection(\n",
        "    selection_category\n",
        ").transform_filter(\n",
        "    selection_category\n",
        ").interactive()\n",
        "\n",
        "\n",
        "base"
      ],
      "metadata": {
        "id": "NrZHH1xw3D8o"
      },
      "execution_count": null,
      "outputs": []
    },
    {
      "cell_type": "markdown",
      "source": [
        "## Visualization 6\n",
        "\n",
        "Which restricted gates are utilized the most? Are vehicles other than park service vehicles passing through the restricted gates? How does this activity change over time?"
      ],
      "metadata": {
        "id": "k1olVVjP0z38"
      }
    },
    {
      "cell_type": "code",
      "source": [
        "# Visualization 6\n",
        "\n",
        "gates = df[(df['gate-name'] == 'gate0') | \n",
        "             (df['gate-name'] == 'gate1') |\n",
        "             (df['gate-name'] == 'gate2') |\n",
        "             (df['gate-name'] == 'gate3') |\n",
        "             (df['gate-name'] == 'gate4') |           \n",
        "             (df['gate-name'] == 'gate5') |\n",
        "             (df['gate-name'] == 'gate6') |\n",
        "             (df['gate-name'] == 'gate7') |\n",
        "             (df['gate-name'] == 'gate8')]\n",
        "\n",
        "\n",
        "select_month = alt.selection_single(name=\"SelectorName\", \n",
        "                                fields=['month'],\n",
        "                                bind = alt.binding_range(min=1, max=12, step=1, name='Select Month'), \n",
        "                                init={'month': 1})\n",
        "\n",
        "alt.Chart(gates).mark_bar().encode(\n",
        "    x = alt.X('gate-name', axis=alt.Axis(title='Gate'), \n",
        "          sort=alt.EncodingSortField(field=\"gate-name\", op=\"count\", order='descending')),\n",
        "    y = alt.Y('count()', axis=alt.Axis(title='Visits'), title = 'Visits'),\n",
        "    color = alt.Color(\n",
        "        'car-type:N',\n",
        "        scale = alt.Scale(domain=('1', '2', '3', '4', '5', '6', '2P'), \n",
        "                        range=['#ea5545', '#ef9b20', '#ede15b', '#bdcf32', \n",
        "                               '#87bc45', \"#27aeef\", \"#b33dc6\"]),\n",
        "        title = 'Vehicle Type')\n",
        ").properties(\n",
        "    width=500,\n",
        "    title=\"Restricted Gate Visits over Time\"\n",
        ").add_selection(\n",
        "    select_month\n",
        ").transform_filter(\n",
        "    select_month\n",
        ").configure_facet(\n",
        "    spacing=8\n",
        ")"
      ],
      "metadata": {
        "id": "8snn-NZNT8Yh"
      },
      "execution_count": null,
      "outputs": []
    },
    {
      "cell_type": "markdown",
      "source": [
        "### Conclusion\n",
        "\n",
        "- Not enough data to determine exactly what is happening or causing the nesting pairs to decrease in population \n",
        "- We can look into the unusual patterns we found and any outliers in the data \n",
        "- Then we can maybe find what is going on by investigating this suspicious activity\n"
      ],
      "metadata": {
        "id": "ts53SzcY2YLN"
      }
    },
    {
      "cell_type": "markdown",
      "source": [],
      "metadata": {
        "id": "9t8CAHHcDTZa"
      }
    }
  ]
}